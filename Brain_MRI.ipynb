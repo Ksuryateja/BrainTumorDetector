{
 "cells": [
  {
   "cell_type": "code",
   "execution_count": 1,
   "metadata": {
    "colab": {},
    "colab_type": "code",
    "id": "WGimdzcbXH-u"
   },
   "outputs": [
    {
     "name": "stderr",
     "output_type": "stream",
     "text": [
      "Using TensorFlow backend.\n",
      "/home/surya/.local/lib/python3.6/site-packages/tensorflow/python/framework/dtypes.py:516: FutureWarning: Passing (type, 1) or '1type' as a synonym of type is deprecated; in a future version of numpy, it will be understood as (type, (1,)) / '(1,)type'.\n",
      "  _np_qint8 = np.dtype([(\"qint8\", np.int8, 1)])\n",
      "/home/surya/.local/lib/python3.6/site-packages/tensorflow/python/framework/dtypes.py:517: FutureWarning: Passing (type, 1) or '1type' as a synonym of type is deprecated; in a future version of numpy, it will be understood as (type, (1,)) / '(1,)type'.\n",
      "  _np_quint8 = np.dtype([(\"quint8\", np.uint8, 1)])\n",
      "/home/surya/.local/lib/python3.6/site-packages/tensorflow/python/framework/dtypes.py:518: FutureWarning: Passing (type, 1) or '1type' as a synonym of type is deprecated; in a future version of numpy, it will be understood as (type, (1,)) / '(1,)type'.\n",
      "  _np_qint16 = np.dtype([(\"qint16\", np.int16, 1)])\n",
      "/home/surya/.local/lib/python3.6/site-packages/tensorflow/python/framework/dtypes.py:519: FutureWarning: Passing (type, 1) or '1type' as a synonym of type is deprecated; in a future version of numpy, it will be understood as (type, (1,)) / '(1,)type'.\n",
      "  _np_quint16 = np.dtype([(\"quint16\", np.uint16, 1)])\n",
      "/home/surya/.local/lib/python3.6/site-packages/tensorflow/python/framework/dtypes.py:520: FutureWarning: Passing (type, 1) or '1type' as a synonym of type is deprecated; in a future version of numpy, it will be understood as (type, (1,)) / '(1,)type'.\n",
      "  _np_qint32 = np.dtype([(\"qint32\", np.int32, 1)])\n",
      "/home/surya/.local/lib/python3.6/site-packages/tensorflow/python/framework/dtypes.py:525: FutureWarning: Passing (type, 1) or '1type' as a synonym of type is deprecated; in a future version of numpy, it will be understood as (type, (1,)) / '(1,)type'.\n",
      "  np_resource = np.dtype([(\"resource\", np.ubyte, 1)])\n",
      "/home/surya/.local/lib/python3.6/site-packages/tensorboard/compat/tensorflow_stub/dtypes.py:541: FutureWarning: Passing (type, 1) or '1type' as a synonym of type is deprecated; in a future version of numpy, it will be understood as (type, (1,)) / '(1,)type'.\n",
      "  _np_qint8 = np.dtype([(\"qint8\", np.int8, 1)])\n",
      "/home/surya/.local/lib/python3.6/site-packages/tensorboard/compat/tensorflow_stub/dtypes.py:542: FutureWarning: Passing (type, 1) or '1type' as a synonym of type is deprecated; in a future version of numpy, it will be understood as (type, (1,)) / '(1,)type'.\n",
      "  _np_quint8 = np.dtype([(\"quint8\", np.uint8, 1)])\n",
      "/home/surya/.local/lib/python3.6/site-packages/tensorboard/compat/tensorflow_stub/dtypes.py:543: FutureWarning: Passing (type, 1) or '1type' as a synonym of type is deprecated; in a future version of numpy, it will be understood as (type, (1,)) / '(1,)type'.\n",
      "  _np_qint16 = np.dtype([(\"qint16\", np.int16, 1)])\n",
      "/home/surya/.local/lib/python3.6/site-packages/tensorboard/compat/tensorflow_stub/dtypes.py:544: FutureWarning: Passing (type, 1) or '1type' as a synonym of type is deprecated; in a future version of numpy, it will be understood as (type, (1,)) / '(1,)type'.\n",
      "  _np_quint16 = np.dtype([(\"quint16\", np.uint16, 1)])\n",
      "/home/surya/.local/lib/python3.6/site-packages/tensorboard/compat/tensorflow_stub/dtypes.py:545: FutureWarning: Passing (type, 1) or '1type' as a synonym of type is deprecated; in a future version of numpy, it will be understood as (type, (1,)) / '(1,)type'.\n",
      "  _np_qint32 = np.dtype([(\"qint32\", np.int32, 1)])\n",
      "/home/surya/.local/lib/python3.6/site-packages/tensorboard/compat/tensorflow_stub/dtypes.py:550: FutureWarning: Passing (type, 1) or '1type' as a synonym of type is deprecated; in a future version of numpy, it will be understood as (type, (1,)) / '(1,)type'.\n",
      "  np_resource = np.dtype([(\"resource\", np.ubyte, 1)])\n"
     ]
    }
   ],
   "source": [
    "from keras.models import Sequential, Model\n",
    "from keras.layers.core import Dense, Dropout, Activation, Flatten\n",
    "from keras.layers.convolutional import Convolution2D, ZeroPadding2D\n",
    "from keras.layers import  MaxPooling2D, Concatenate, Input, concatenate, add, multiply, maximum, BatchNormalization\n",
    "from keras.callbacks import ModelCheckpoint\n",
    "import matplotlib.pyplot as plt\n"
   ]
  },
  {
   "cell_type": "code",
   "execution_count": 4,
   "metadata": {
    "colab": {},
    "colab_type": "code",
    "id": "Lru5ptNnIB2Q"
   },
   "outputs": [],
   "source": [
    "from sklearn.model_selection import train_test_split\n",
    "from sklearn.metrics import f1_score, confusion_matrix\n",
    "from sklearn.utils import shuffle \n",
    "import cv2\n",
    "import numpy as np\n",
    "import time\n",
    "from os import listdir\n",
    "\n",
    "%matplotlib inline"
   ]
  },
  {
   "cell_type": "code",
   "execution_count": 5,
   "metadata": {
    "colab": {},
    "colab_type": "code",
    "id": "VwiMffcuLGUu"
   },
   "outputs": [],
   "source": [
    "def load_data(dir_list, image_size):\n",
    "    \"\"\"\n",
    "    Read images, resize and normalize them. \n",
    "    Arguments:\n",
    "        dir_list: list of strings representing file directories.\n",
    "    Returns:\n",
    "        X: A numpy array with shape = (#_examples, image_width, image_height, #_channels)\n",
    "        y: A numpy array with shape = (#_examples, 1)\n",
    "    \"\"\"\n",
    "\n",
    "    # load all images in a directory\n",
    "    X = []\n",
    "    y = []\n",
    "    image_width, image_height = image_size\n",
    "    \n",
    "    for directory in dir_list:\n",
    "        for filename in listdir(directory):\n",
    "            # load the image\n",
    "            image = cv2.imread(directory + '/' + filename, cv2.IMREAD_GRAYSCALE)\n",
    "            # crop the brain and ignore the unnecessary rest part of the image\n",
    "            #image = crop_brain_contour(image, plot=False)\n",
    "            # resize image\n",
    "            image = cv2.resize(image, dsize=(image_width, image_height), interpolation=cv2.INTER_CUBIC)\n",
    "            # normalize values\n",
    "            image = image / 255.\n",
    "            #image = cv2.cvtColor(image, cv2.COLOR_BGR2GRAY)\n",
    "            # convert image to numpy array and append it to X\n",
    "            X.append(image)\n",
    "            # append a value of 1 to the target array if the image\n",
    "            # is in the folder named 'yes', otherwise append 0.\n",
    "            if directory[-3:] == 'yes':\n",
    "                y.append([1])\n",
    "            else:\n",
    "                y.append([0])\n",
    "                \n",
    "    X = np.array(X)\n",
    "    y = np.array(y)\n",
    "    \n",
    "    # Shuffle the data\n",
    "    X, y = shuffle(X, y)\n",
    "    \n",
    "    print(f'Number of examples is: {len(X)}')\n",
    "    print(f'X shape is: {X.shape}')\n",
    "    print(f'y shape is: {y.shape}')\n",
    "    \n",
    "    return X, y"
   ]
  },
  {
   "cell_type": "code",
   "execution_count": 6,
   "metadata": {
    "colab": {},
    "colab_type": "code",
    "id": "M1A1fwtApW-M"
   },
   "outputs": [],
   "source": [
    "def createNegative(arr):\n",
    "    X_neg = []\n",
    "    for image in arr:\n",
    "        negative = 255 - image\n",
    "        X_neg.append(image)\n",
    "    X_neg = np.array(X_neg)\n",
    "\n",
    "    return X_neg"
   ]
  },
  {
   "cell_type": "code",
   "execution_count": 7,
   "metadata": {
    "colab": {},
    "colab_type": "code",
    "id": "JnC_rQKoLX7P"
   },
   "outputs": [],
   "source": [
    "def split_data(X, y, test_size=0.2):\n",
    "       \n",
    "    \"\"\"\n",
    "    Splits data into training, development and test sets.\n",
    "    Arguments:\n",
    "        X: A numpy array with shape = (#_examples, image_width, image_height, #_channels)\n",
    "        y: A numpy array with shape = (#_examples, 1)\n",
    "    Returns:\n",
    "        X_train: A numpy array with shape = (#_train_examples, image_width, image_height, #_channels)\n",
    "        y_train: A numpy array with shape = (#_train_examples, 1)\n",
    "        X_val: A numpy array with shape = (#_val_examples, image_width, image_height, #_channels)\n",
    "        y_val: A numpy array with shape = (#_val_examples, 1)\n",
    "        X_test: A numpy array with shape = (#_test_examples, image_width, image_height, #_channels)\n",
    "        y_test: A numpy array with shape = (#_test_examples, 1)\n",
    "    \"\"\"\n",
    "    \n",
    "    X_train, X_test_val, y_train, y_test_val = train_test_split(X, y, test_size=test_size)\n",
    "    X_test, X_val, y_test, y_val = train_test_split(X_test_val, y_test_val, test_size=0.5)\n",
    "    \n",
    "    return X_train, y_train, X_val, y_val, X_test, y_test"
   ]
  },
  {
   "cell_type": "code",
   "execution_count": 8,
   "metadata": {
    "colab": {},
    "colab_type": "code",
    "id": "c9jWe00Obe92"
   },
   "outputs": [],
   "source": [
    "def build_model(input_shape):\n",
    "\n",
    "    image_input = Input(shape = input_shape)\n",
    "    padding = ZeroPadding2D((2, 2))(image_input)\n",
    "    \n",
    "    conv1 = Convolution2D(32, (7, 7),strides = (1,1), name = 'conv1')(padding)\n",
    "    bn1 = BatchNormalization(axis = 3, name = 'bn1')(conv1)\n",
    "    act1 = Activation('relu')(bn1)\n",
    "    maxpool1 = MaxPooling2D((4, 4), name = 'max_pool1')(act1)\n",
    "\n",
    "    conv2 = Convolution2D(32, (3, 3),strides = (1,1), name = 'conv2')(maxpool1)\n",
    "    bn2 = BatchNormalization(axis = 3, name = 'bn2')(conv2)\n",
    "    act2 = Activation('relu')(bn2)\n",
    "    maxpool2 = MaxPooling2D((2,2), name = 'maxpool2')(act2)\n",
    "\n",
    "    maxpool3 = MaxPooling2D((2,2), name = 'maxpool3')(maxpool2)\n",
    "\n",
    "    flatten = Flatten()(maxpool3)\n",
    "\n",
    "\n",
    "    neg_image_input = Input(shape = input_shape)\n",
    "    neg_padding = ZeroPadding2D((2, 2))(neg_image_input)\n",
    "    \n",
    "    neg_conv1 = Convolution2D(32, (7, 7),strides = (1,1), name = 'neg_conv1')(neg_padding)\n",
    "    neg_bn1 = BatchNormalization(axis = 3, name = 'neg_bn1')(neg_conv1)\n",
    "    neg_act1 = Activation('relu')(neg_bn1)\n",
    "    neg_maxpool1 = MaxPooling2D((4, 4), name = 'neg_max_pool1')(neg_act1)\n",
    "\n",
    "    neg_conv2 = Convolution2D(32, (3, 3),strides = (1,1), name = 'neg_conv2')(neg_maxpool1)\n",
    "    neg_bn2 = BatchNormalization(axis = 3, name = 'neg_bn2')(neg_conv2)\n",
    "    neg_act2 = Activation('relu')(neg_bn2)\n",
    "    neg_maxpool2 = MaxPooling2D((2,2), name = 'neg_maxpool2')(neg_act2)\n",
    "\n",
    "    neg_maxpool3 = MaxPooling2D((2,2), name = 'neg_maxpool3')(neg_maxpool2)\n",
    "\n",
    "    neg_flatten = Flatten()(neg_maxpool3)\n",
    "\n",
    "    concat = Concatenate(axis = 1)([flatten, neg_flatten])\n",
    "    output = Dense(1, activation = 'sigmoid', name = 'fc')(concat)\n",
    "\n",
    "    model = Model(inputs = [image_input, neg_image_input], outputs = output, name = 'BrainTumorDetectionModel')\n",
    "\n",
    "    return model"
   ]
  },
  {
   "cell_type": "code",
   "execution_count": 9,
   "metadata": {
    "colab": {
     "base_uri": "https://localhost:8080/",
     "height": 69
    },
    "colab_type": "code",
    "id": "dghPH42fLOZN",
    "outputId": "9c8a7fc6-c847-472a-d851-bba96b105422"
   },
   "outputs": [
    {
     "name": "stdout",
     "output_type": "stream",
     "text": [
      "Number of examples is: 2065\n",
      "X shape is: (2065, 240, 240)\n",
      "y shape is: (2065, 1)\n"
     ]
    }
   ],
   "source": [
    "augmented_path = './Brain-MRI-augmented-data/'\n",
    "\n",
    "# augmented data (yes and no) contains both the original and the new generated examples\n",
    "augmented_yes = augmented_path + 'yes' \n",
    "augmented_no = augmented_path + 'no'\n",
    "\n",
    "IMG_WIDTH, IMG_HEIGHT = (240, 240)\n",
    "\n",
    "X, y = load_data([augmented_yes, augmented_no], (IMG_WIDTH, IMG_HEIGHT))"
   ]
  },
  {
   "cell_type": "code",
   "execution_count": 10,
   "metadata": {
    "colab": {},
    "colab_type": "code",
    "id": "lFcI18dCMmE5"
   },
   "outputs": [],
   "source": [
    "X_train, y_train, X_val, y_val, X_test, y_test = split_data(X, y, test_size=0.3)"
   ]
  },
  {
   "cell_type": "code",
   "execution_count": 11,
   "metadata": {
    "colab": {
     "base_uri": "https://localhost:8080/",
     "height": 173
    },
    "colab_type": "code",
    "id": "u8v49M8xMp3i",
    "outputId": "239ce1b1-8511-4c49-dffe-4e35c1adfbc4"
   },
   "outputs": [
    {
     "name": "stdout",
     "output_type": "stream",
     "text": [
      "number of training examples = 1445\n",
      "number of development examples = 310\n",
      "number of test examples = 310\n",
      "X_train shape: (1445, 240, 240)\n",
      "Y_train shape: (1445, 1)\n",
      "X_val (dev) shape: (310, 240, 240)\n",
      "Y_val (dev) shape: (310, 1)\n",
      "X_test shape: (310, 240, 240)\n",
      "Y_test shape: (310, 1)\n"
     ]
    }
   ],
   "source": [
    "print (\"number of training examples = \" + str(X_train.shape[0]))\n",
    "print (\"number of development examples = \" + str(X_val.shape[0]))\n",
    "print (\"number of test examples = \" + str(X_test.shape[0]))\n",
    "print (\"X_train shape: \" + str(X_train.shape))\n",
    "print (\"Y_train shape: \" + str(y_train.shape))\n",
    "print (\"X_val (dev) shape: \" + str(X_val.shape))\n",
    "print (\"Y_val (dev) shape: \" + str(y_val.shape))\n",
    "print (\"X_test shape: \" + str(X_test.shape))\n",
    "print (\"Y_test shape: \" + str(y_test.shape))"
   ]
  },
  {
   "cell_type": "code",
   "execution_count": 12,
   "metadata": {
    "colab": {},
    "colab_type": "code",
    "id": "LDrnj9qOd8Oo"
   },
   "outputs": [],
   "source": [
    "X_train = np.expand_dims(X_train, axis = 3)\n",
    "X_test = np.expand_dims(X_test, axis = 3)\n",
    "X_val = np.expand_dims(X_val, axis = 3)"
   ]
  },
  {
   "cell_type": "code",
   "execution_count": 13,
   "metadata": {
    "colab": {},
    "colab_type": "code",
    "id": "B2pB1b6UsC2s"
   },
   "outputs": [],
   "source": [
    "neg_X_train = createNegative(X_train)\n",
    "neg_X_val = createNegative(X_val)\n",
    "neg_X_test = createNegative(X_test)"
   ]
  },
  {
   "cell_type": "code",
   "execution_count": 14,
   "metadata": {
    "colab": {
     "base_uri": "https://localhost:8080/",
     "height": 1000
    },
    "colab_type": "code",
    "id": "wC4Fu6NmiyVr",
    "outputId": "068144ff-42a4-47bb-9b6a-4f3348a3a7e2"
   },
   "outputs": [
    {
     "name": "stderr",
     "output_type": "stream",
     "text": [
      "WARNING: Logging before flag parsing goes to stderr.\n",
      "W0902 22:49:21.156016 140087862785856 deprecation_wrapper.py:119] From /home/surya/.local/lib/python3.6/site-packages/keras/backend/tensorflow_backend.py:74: The name tf.get_default_graph is deprecated. Please use tf.compat.v1.get_default_graph instead.\n",
      "\n",
      "W0902 22:49:21.466460 140087862785856 deprecation_wrapper.py:119] From /home/surya/.local/lib/python3.6/site-packages/keras/backend/tensorflow_backend.py:517: The name tf.placeholder is deprecated. Please use tf.compat.v1.placeholder instead.\n",
      "\n",
      "W0902 22:49:21.586364 140087862785856 deprecation_wrapper.py:119] From /home/surya/.local/lib/python3.6/site-packages/keras/backend/tensorflow_backend.py:4138: The name tf.random_uniform is deprecated. Please use tf.random.uniform instead.\n",
      "\n",
      "W0902 22:49:21.698878 140087862785856 deprecation_wrapper.py:119] From /home/surya/.local/lib/python3.6/site-packages/keras/backend/tensorflow_backend.py:174: The name tf.get_default_session is deprecated. Please use tf.compat.v1.get_default_session instead.\n",
      "\n",
      "W0902 22:49:21.699730 140087862785856 deprecation_wrapper.py:119] From /home/surya/.local/lib/python3.6/site-packages/keras/backend/tensorflow_backend.py:181: The name tf.ConfigProto is deprecated. Please use tf.compat.v1.ConfigProto instead.\n",
      "\n",
      "W0902 22:49:24.113122 140087862785856 deprecation_wrapper.py:119] From /home/surya/.local/lib/python3.6/site-packages/keras/backend/tensorflow_backend.py:1834: The name tf.nn.fused_batch_norm is deprecated. Please use tf.compat.v1.nn.fused_batch_norm instead.\n",
      "\n",
      "W0902 22:49:24.241087 140087862785856 deprecation_wrapper.py:119] From /home/surya/.local/lib/python3.6/site-packages/keras/backend/tensorflow_backend.py:3976: The name tf.nn.max_pool is deprecated. Please use tf.nn.max_pool2d instead.\n",
      "\n"
     ]
    },
    {
     "name": "stdout",
     "output_type": "stream",
     "text": [
      "__________________________________________________________________________________________________\n",
      "Layer (type)                    Output Shape         Param #     Connected to                     \n",
      "==================================================================================================\n",
      "input_1 (InputLayer)            (None, 240, 240, 1)  0                                            \n",
      "__________________________________________________________________________________________________\n",
      "input_2 (InputLayer)            (None, 240, 240, 1)  0                                            \n",
      "__________________________________________________________________________________________________\n",
      "zero_padding2d_1 (ZeroPadding2D (None, 244, 244, 1)  0           input_1[0][0]                    \n",
      "__________________________________________________________________________________________________\n",
      "zero_padding2d_2 (ZeroPadding2D (None, 244, 244, 1)  0           input_2[0][0]                    \n",
      "__________________________________________________________________________________________________\n",
      "conv1 (Conv2D)                  (None, 238, 238, 32) 1600        zero_padding2d_1[0][0]           \n",
      "__________________________________________________________________________________________________\n",
      "neg_conv1 (Conv2D)              (None, 238, 238, 32) 1600        zero_padding2d_2[0][0]           \n",
      "__________________________________________________________________________________________________\n",
      "bn1 (BatchNormalization)        (None, 238, 238, 32) 128         conv1[0][0]                      \n",
      "__________________________________________________________________________________________________\n",
      "neg_bn1 (BatchNormalization)    (None, 238, 238, 32) 128         neg_conv1[0][0]                  \n",
      "__________________________________________________________________________________________________\n",
      "activation_1 (Activation)       (None, 238, 238, 32) 0           bn1[0][0]                        \n",
      "__________________________________________________________________________________________________\n",
      "activation_3 (Activation)       (None, 238, 238, 32) 0           neg_bn1[0][0]                    \n",
      "__________________________________________________________________________________________________\n",
      "max_pool1 (MaxPooling2D)        (None, 59, 59, 32)   0           activation_1[0][0]               \n",
      "__________________________________________________________________________________________________\n",
      "neg_max_pool1 (MaxPooling2D)    (None, 59, 59, 32)   0           activation_3[0][0]               \n",
      "__________________________________________________________________________________________________\n",
      "conv2 (Conv2D)                  (None, 57, 57, 32)   9248        max_pool1[0][0]                  \n",
      "__________________________________________________________________________________________________\n",
      "neg_conv2 (Conv2D)              (None, 57, 57, 32)   9248        neg_max_pool1[0][0]              \n",
      "__________________________________________________________________________________________________\n",
      "bn2 (BatchNormalization)        (None, 57, 57, 32)   128         conv2[0][0]                      \n",
      "__________________________________________________________________________________________________\n",
      "neg_bn2 (BatchNormalization)    (None, 57, 57, 32)   128         neg_conv2[0][0]                  \n",
      "__________________________________________________________________________________________________\n",
      "activation_2 (Activation)       (None, 57, 57, 32)   0           bn2[0][0]                        \n",
      "__________________________________________________________________________________________________\n",
      "activation_4 (Activation)       (None, 57, 57, 32)   0           neg_bn2[0][0]                    \n",
      "__________________________________________________________________________________________________\n",
      "maxpool2 (MaxPooling2D)         (None, 28, 28, 32)   0           activation_2[0][0]               \n",
      "__________________________________________________________________________________________________\n",
      "neg_maxpool2 (MaxPooling2D)     (None, 28, 28, 32)   0           activation_4[0][0]               \n",
      "__________________________________________________________________________________________________\n",
      "maxpool3 (MaxPooling2D)         (None, 14, 14, 32)   0           maxpool2[0][0]                   \n",
      "__________________________________________________________________________________________________\n",
      "neg_maxpool3 (MaxPooling2D)     (None, 14, 14, 32)   0           neg_maxpool2[0][0]               \n",
      "__________________________________________________________________________________________________\n",
      "flatten_1 (Flatten)             (None, 6272)         0           maxpool3[0][0]                   \n",
      "__________________________________________________________________________________________________\n",
      "flatten_2 (Flatten)             (None, 6272)         0           neg_maxpool3[0][0]               \n",
      "__________________________________________________________________________________________________\n",
      "concatenate_1 (Concatenate)     (None, 12544)        0           flatten_1[0][0]                  \n",
      "                                                                 flatten_2[0][0]                  \n",
      "__________________________________________________________________________________________________\n",
      "fc (Dense)                      (None, 1)            12545       concatenate_1[0][0]              \n",
      "==================================================================================================\n",
      "Total params: 34,753\n",
      "Trainable params: 34,497\n",
      "Non-trainable params: 256\n",
      "__________________________________________________________________________________________________\n"
     ]
    }
   ],
   "source": [
    "image_shape = (IMG_WIDTH, IMG_HEIGHT, 1)\n",
    "model = build_model(image_shape)\n",
    "model.summary()"
   ]
  },
  {
   "cell_type": "code",
   "execution_count": 15,
   "metadata": {
    "colab": {},
    "colab_type": "code",
    "id": "1w0uWguCjPqo"
   },
   "outputs": [
    {
     "name": "stderr",
     "output_type": "stream",
     "text": [
      "W0902 22:49:31.340127 140087862785856 deprecation_wrapper.py:119] From /home/surya/.local/lib/python3.6/site-packages/keras/optimizers.py:790: The name tf.train.Optimizer is deprecated. Please use tf.compat.v1.train.Optimizer instead.\n",
      "\n",
      "W0902 22:49:31.384603 140087862785856 deprecation.py:323] From /home/surya/.local/lib/python3.6/site-packages/tensorflow/python/ops/nn_impl.py:180: add_dispatch_support.<locals>.wrapper (from tensorflow.python.ops.array_ops) is deprecated and will be removed in a future version.\n",
      "Instructions for updating:\n",
      "Use tf.where in 2.0, which has the same broadcast rule as np.where\n"
     ]
    }
   ],
   "source": [
    "model.compile(optimizer='adam', loss='binary_crossentropy', metrics=['accuracy'])"
   ]
  },
  {
   "cell_type": "code",
   "execution_count": 16,
   "metadata": {
    "colab": {},
    "colab_type": "code",
    "id": "5XHiO8Volmil"
   },
   "outputs": [],
   "source": [
    "filepath=\"cnn-parameters-improvement-{epoch:02d}-{val_acc:.2f}\"\n",
    "checkpoint = ModelCheckpoint(\"./models/{}.hdf5\".format(filepath, monitor='val_acc', verbose=1, save_best_only=True, mode='max'))"
   ]
  },
  {
   "cell_type": "code",
   "execution_count": 137,
   "metadata": {
    "colab": {
     "base_uri": "https://localhost:8080/",
     "height": 1000
    },
    "colab_type": "code",
    "id": "egIKhjFOlvR_",
    "outputId": "7f147c3f-1bbf-4e27-9d37-0258dd4315ba"
   },
   "outputs": [
    {
     "name": "stdout",
     "output_type": "stream",
     "text": [
      "Train on 1445 samples, validate on 310 samples\n",
      "Epoch 1/50\n",
      "1445/1445 [==============================] - 7s 5ms/step - loss: 0.8060 - acc: 0.6851 - val_loss: 0.5991 - val_acc: 0.7452\n",
      "Epoch 2/50\n",
      "1445/1445 [==============================] - 6s 4ms/step - loss: 0.4855 - acc: 0.7626 - val_loss: 0.4897 - val_acc: 0.7774\n",
      "Epoch 3/50\n",
      "1445/1445 [==============================] - 6s 4ms/step - loss: 0.3809 - acc: 0.8166 - val_loss: 0.4796 - val_acc: 0.7871\n",
      "Epoch 4/50\n",
      "1445/1445 [==============================] - 6s 4ms/step - loss: 0.3336 - acc: 0.8547 - val_loss: 0.5111 - val_acc: 0.7548\n",
      "Epoch 5/50\n",
      "1445/1445 [==============================] - 6s 4ms/step - loss: 0.2648 - acc: 0.8844 - val_loss: 0.8538 - val_acc: 0.6677\n",
      "Epoch 6/50\n",
      "1445/1445 [==============================] - 6s 4ms/step - loss: 0.2340 - acc: 0.9010 - val_loss: 0.7745 - val_acc: 0.6968\n",
      "Epoch 7/50\n",
      "1445/1445 [==============================] - 6s 4ms/step - loss: 0.3343 - acc: 0.8512 - val_loss: 0.6052 - val_acc: 0.7677\n",
      "Epoch 8/50\n",
      "1445/1445 [==============================] - 6s 4ms/step - loss: 0.2053 - acc: 0.9183 - val_loss: 0.4621 - val_acc: 0.8129\n",
      "Epoch 9/50\n",
      "1445/1445 [==============================] - 6s 4ms/step - loss: 0.1436 - acc: 0.9502 - val_loss: 0.5001 - val_acc: 0.7645\n",
      "Epoch 10/50\n",
      "1445/1445 [==============================] - 6s 4ms/step - loss: 0.1457 - acc: 0.9419 - val_loss: 0.5608 - val_acc: 0.8129\n",
      "Epoch 11/50\n",
      "1445/1445 [==============================] - 6s 4ms/step - loss: 0.1132 - acc: 0.9592 - val_loss: 0.5629 - val_acc: 0.7742\n",
      "Epoch 12/50\n",
      "1445/1445 [==============================] - 6s 4ms/step - loss: 0.0918 - acc: 0.9737 - val_loss: 1.8605 - val_acc: 0.5839\n",
      "Epoch 13/50\n",
      "1445/1445 [==============================] - 6s 4ms/step - loss: 0.2293 - acc: 0.9045 - val_loss: 0.8129 - val_acc: 0.7581\n",
      "Epoch 14/50\n",
      "1445/1445 [==============================] - 6s 4ms/step - loss: 0.2072 - acc: 0.9100 - val_loss: 0.6399 - val_acc: 0.7548\n",
      "Epoch 15/50\n",
      "1445/1445 [==============================] - 6s 4ms/step - loss: 0.0705 - acc: 0.9834 - val_loss: 0.6196 - val_acc: 0.8387\n",
      "Epoch 16/50\n",
      "1445/1445 [==============================] - 6s 4ms/step - loss: 0.0512 - acc: 0.9924 - val_loss: 0.6148 - val_acc: 0.8032\n",
      "Epoch 17/50\n",
      "1445/1445 [==============================] - 6s 4ms/step - loss: 0.0435 - acc: 0.9958 - val_loss: 0.7618 - val_acc: 0.7613\n",
      "Epoch 18/50\n",
      "1445/1445 [==============================] - 6s 4ms/step - loss: 0.0251 - acc: 0.9993 - val_loss: 0.5983 - val_acc: 0.8032\n",
      "Epoch 19/50\n",
      "1445/1445 [==============================] - 6s 4ms/step - loss: 0.0360 - acc: 0.9965 - val_loss: 0.5450 - val_acc: 0.8258\n",
      "Epoch 20/50\n",
      "1445/1445 [==============================] - 6s 4ms/step - loss: 0.0256 - acc: 0.9965 - val_loss: 0.5577 - val_acc: 0.8258\n",
      "Epoch 21/50\n",
      "1445/1445 [==============================] - 6s 4ms/step - loss: 0.0227 - acc: 1.0000 - val_loss: 0.5438 - val_acc: 0.8290\n",
      "Epoch 22/50\n",
      "1445/1445 [==============================] - 6s 4ms/step - loss: 0.0693 - acc: 0.9765 - val_loss: 0.6515 - val_acc: 0.7710\n",
      "Epoch 23/50\n",
      "1445/1445 [==============================] - 6s 4ms/step - loss: 0.0232 - acc: 0.9972 - val_loss: 0.5871 - val_acc: 0.8161\n",
      "Epoch 24/50\n",
      "1445/1445 [==============================] - 6s 4ms/step - loss: 0.0135 - acc: 1.0000 - val_loss: 0.5648 - val_acc: 0.8129\n",
      "Epoch 25/50\n",
      "1445/1445 [==============================] - 6s 4ms/step - loss: 0.0107 - acc: 1.0000 - val_loss: 0.5613 - val_acc: 0.8161\n",
      "Epoch 26/50\n",
      "1445/1445 [==============================] - 6s 4ms/step - loss: 0.0078 - acc: 1.0000 - val_loss: 0.6173 - val_acc: 0.7903\n",
      "Epoch 27/50\n",
      "1445/1445 [==============================] - 6s 4ms/step - loss: 0.0083 - acc: 1.0000 - val_loss: 0.5989 - val_acc: 0.7968\n",
      "Epoch 28/50\n",
      "1445/1445 [==============================] - 6s 4ms/step - loss: 0.0066 - acc: 1.0000 - val_loss: 0.5975 - val_acc: 0.8032\n",
      "Epoch 29/50\n",
      "1445/1445 [==============================] - 6s 4ms/step - loss: 0.0057 - acc: 1.0000 - val_loss: 0.5767 - val_acc: 0.8290\n",
      "Epoch 30/50\n",
      "1445/1445 [==============================] - 6s 4ms/step - loss: 0.0054 - acc: 1.0000 - val_loss: 0.6411 - val_acc: 0.8323\n",
      "Epoch 31/50\n",
      "1445/1445 [==============================] - 6s 4ms/step - loss: 0.0067 - acc: 1.0000 - val_loss: 0.8076 - val_acc: 0.7645\n",
      "Epoch 32/50\n",
      "1445/1445 [==============================] - 6s 4ms/step - loss: 0.0047 - acc: 1.0000 - val_loss: 0.6152 - val_acc: 0.8419\n",
      "Epoch 33/50\n",
      "1445/1445 [==============================] - 6s 4ms/step - loss: 0.0083 - acc: 1.0000 - val_loss: 0.8315 - val_acc: 0.8194\n",
      "Epoch 34/50\n",
      "1445/1445 [==============================] - 6s 4ms/step - loss: 0.0040 - acc: 1.0000 - val_loss: 0.6334 - val_acc: 0.7968\n",
      "Epoch 35/50\n",
      "1445/1445 [==============================] - 6s 4ms/step - loss: 0.0039 - acc: 1.0000 - val_loss: 0.6156 - val_acc: 0.8355\n",
      "Epoch 36/50\n",
      "1445/1445 [==============================] - 6s 4ms/step - loss: 0.0037 - acc: 1.0000 - val_loss: 0.6466 - val_acc: 0.8032\n",
      "Epoch 37/50\n",
      "1445/1445 [==============================] - 6s 4ms/step - loss: 0.0036 - acc: 1.0000 - val_loss: 0.6129 - val_acc: 0.8194\n",
      "Epoch 38/50\n",
      "1445/1445 [==============================] - 6s 4ms/step - loss: 0.0030 - acc: 1.0000 - val_loss: 0.6145 - val_acc: 0.8323\n",
      "Epoch 39/50\n",
      "1445/1445 [==============================] - 6s 4ms/step - loss: 0.0031 - acc: 1.0000 - val_loss: 0.6175 - val_acc: 0.8387\n",
      "Epoch 40/50\n",
      "1445/1445 [==============================] - 6s 4ms/step - loss: 0.0029 - acc: 1.0000 - val_loss: 0.6250 - val_acc: 0.8290\n",
      "Epoch 41/50\n",
      "1445/1445 [==============================] - 6s 4ms/step - loss: 0.0032 - acc: 1.0000 - val_loss: 0.6277 - val_acc: 0.8258\n",
      "Epoch 42/50\n",
      "1445/1445 [==============================] - 6s 4ms/step - loss: 0.0031 - acc: 1.0000 - val_loss: 0.7042 - val_acc: 0.7935\n",
      "Epoch 43/50\n",
      "1445/1445 [==============================] - 6s 4ms/step - loss: 0.0024 - acc: 1.0000 - val_loss: 0.5997 - val_acc: 0.8323\n",
      "Epoch 44/50\n",
      "1445/1445 [==============================] - 6s 4ms/step - loss: 0.0025 - acc: 1.0000 - val_loss: 0.6222 - val_acc: 0.8323\n",
      "Epoch 45/50\n",
      "1445/1445 [==============================] - 6s 4ms/step - loss: 0.0022 - acc: 1.0000 - val_loss: 0.6402 - val_acc: 0.8323\n",
      "Epoch 46/50\n",
      "1445/1445 [==============================] - 6s 4ms/step - loss: 0.0019 - acc: 1.0000 - val_loss: 0.6634 - val_acc: 0.8323\n",
      "Epoch 47/50\n",
      "1445/1445 [==============================] - 6s 4ms/step - loss: 0.0018 - acc: 1.0000 - val_loss: 0.6308 - val_acc: 0.8226\n",
      "Epoch 48/50\n",
      "1445/1445 [==============================] - 6s 4ms/step - loss: 0.0016 - acc: 1.0000 - val_loss: 0.6445 - val_acc: 0.8387\n",
      "Epoch 49/50\n",
      "1445/1445 [==============================] - 6s 4ms/step - loss: 0.0017 - acc: 1.0000 - val_loss: 0.6367 - val_acc: 0.8194\n",
      "Epoch 50/50\n",
      "1445/1445 [==============================] - 6s 4ms/step - loss: 0.0016 - acc: 1.0000 - val_loss: 0.6331 - val_acc: 0.8387\n"
     ]
    },
    {
     "data": {
      "text/plain": [
       "<keras.callbacks.History at 0x7f13d941b048>"
      ]
     },
     "execution_count": 137,
     "metadata": {
      "tags": []
     },
     "output_type": "execute_result"
    }
   ],
   "source": [
    "model.fit(x=[X_train, neg_X_train], y=y_train, batch_size=32, epochs=50, validation_data=([X_val, neg_X_val], y_val), callbacks=[checkpoint])"
   ]
  },
  {
   "cell_type": "code",
   "execution_count": 0,
   "metadata": {
    "colab": {},
    "colab_type": "code",
    "id": "jmAkKqzrmJjM"
   },
   "outputs": [],
   "source": [
    "history = model.history.history"
   ]
  },
  {
   "cell_type": "code",
   "execution_count": 139,
   "metadata": {
    "colab": {
     "base_uri": "https://localhost:8080/",
     "height": 86
    },
    "colab_type": "code",
    "id": "zBN1Qd_StiyT",
    "outputId": "1dfb9ab1-c94b-411d-c95c-4359e8939ff2"
   },
   "outputs": [
    {
     "name": "stdout",
     "output_type": "stream",
     "text": [
      "val_loss\n",
      "val_acc\n",
      "loss\n",
      "acc\n"
     ]
    }
   ],
   "source": [
    "for key in history.keys():\n",
    "    print(key)"
   ]
  },
  {
   "cell_type": "code",
   "execution_count": 0,
   "metadata": {
    "colab": {},
    "colab_type": "code",
    "id": "znE9iSXFtmzF"
   },
   "outputs": [],
   "source": [
    "def plot_metrics(history):\n",
    "    \n",
    "    train_loss = history['loss']\n",
    "    val_loss = history['val_loss']\n",
    "    train_acc = history['acc']\n",
    "    val_acc = history['val_acc']\n",
    "    \n",
    "    # Loss\n",
    "    plt.figure()\n",
    "    plt.plot(train_loss, label='Training Loss')\n",
    "    plt.plot(val_loss, label='Validation Loss')\n",
    "    plt.title('Loss')\n",
    "    plt.legend()\n",
    "    plt.show()\n",
    "    \n",
    "    # Accuracy\n",
    "    plt.figure()\n",
    "    plt.plot(train_acc, label='Training Accuracy')\n",
    "    plt.plot(val_acc, label='Validation Accuracy')\n",
    "    plt.title('Accuracy')\n",
    "    plt.legend()\n",
    "    plt.show()"
   ]
  },
  {
   "cell_type": "code",
   "execution_count": 141,
   "metadata": {
    "colab": {
     "base_uri": "https://localhost:8080/",
     "height": 545
    },
    "colab_type": "code",
    "id": "i2KssY8Ytysu",
    "outputId": "31cfffe2-544c-42f5-8a68-52e867d6a926"
   },
   "outputs": [
    {
     "data": {
      "image/png": "[encoded data removed]",
      "text/plain": [
       "<Figure size 432x288 with 1 Axes>"
      ]
     },
     "metadata": {
      "tags": []
     },
     "output_type": "display_data"
    },
    {
     "data": {
      "image/png": "[encoded data removed]",
      "text/plain": [
       "<Figure size 432x288 with 1 Axes>"
      ]
     },
     "metadata": {
      "tags": []
     },
     "output_type": "display_data"
    }
   ],
   "source": [
    "plot_metrics(history)"
   ]
  },
  {
   "cell_type": "code",
   "execution_count": 0,
   "metadata": {
    "colab": {},
    "colab_type": "code",
    "id": "-JPGvlIqvKEa"
   },
   "outputs": [],
   "source": [
    "model = build_model([IMG_WIDTH, IMG_HEIGHT, 1])\n",
    "model.compile(optimizer='adam', loss='binary_crossentropy', metrics=['accuracy'])\n",
    "model.load_weights('./models/cnn-parameters-improvement-48-0.84.hdf5')"
   ]
  },
  {
   "cell_type": "code",
   "execution_count": 144,
   "metadata": {
    "colab": {
     "base_uri": "https://localhost:8080/",
     "height": 34
    },
    "colab_type": "code",
    "id": "IKlG-oMF0hMp",
    "outputId": "1aafa5aa-d421-4458-d64b-8ac7fa9ab62b"
   },
   "outputs": [
    {
     "name": "stdout",
     "output_type": "stream",
     "text": [
      "310/310 [==============================] - 1s 3ms/step\n"
     ]
    }
   ],
   "source": [
    "loss, acc = model.evaluate(x = [X_test, neg_X_test], y = y_test)"
   ]
  },
  {
   "cell_type": "code",
   "execution_count": 145,
   "metadata": {
    "colab": {
     "base_uri": "https://localhost:8080/",
     "height": 52
    },
    "colab_type": "code",
    "id": "6rCmkDmv0tPb",
    "outputId": "9130ea9b-cf72-43c1-9427-82de5766c86c"
   },
   "outputs": [
    {
     "name": "stdout",
     "output_type": "stream",
     "text": [
      "Test Loss = 0.544662425210399\n",
      "Test Accuracy = 0.864516128647712\n"
     ]
    }
   ],
   "source": [
    "print (f\"Test Loss = {loss}\")\n",
    "print (f\"Test Accuracy = {acc}\")"
   ]
  },
  {
   "cell_type": "code",
   "execution_count": 0,
   "metadata": {
    "colab": {},
    "colab_type": "code",
    "id": "n_G9sf6C5OBK"
   },
   "outputs": [],
   "source": [
    "np.save('data/test_images.npy', X_test)\n",
    "np.save('data/test_labels.npy', y_test)"
   ]
  },
  {
   "cell_type": "code",
   "execution_count": 17,
   "metadata": {
    "colab": {},
    "colab_type": "code",
    "id": "bAxqfCuJ5-5D"
   },
   "outputs": [],
   "source": [
    "X_test = np.load('data/test_images.npy')\n",
    "y_test = np.load('data/test_labels.npy')"
   ]
  },
  {
   "cell_type": "code",
   "execution_count": 0,
   "metadata": {
    "colab": {},
    "colab_type": "code",
    "id": "m2owwdHk6294"
   },
   "outputs": [],
   "source": []
  }
 ],
 "metadata": {
  "accelerator": "GPU",
  "colab": {
   "collapsed_sections": [],
   "name": "Brain MRI.ipynb",
   "provenance": [],
   "version": "0.3.2"
  },
  "kernelspec": {
   "display_name": "Python 3",
   "language": "python",
   "name": "python3"
  },
  "language_info": {
   "codemirror_mode": {
    "name": "ipython",
    "version": 3
   },
   "file_extension": ".py",
   "mimetype": "text/x-python",
   "name": "python",
   "nbconvert_exporter": "python",
   "pygments_lexer": "ipython3",
   "version": "3.6.8"
  }
 },
 "nbformat": 4,
 "nbformat_minor": 1
}
